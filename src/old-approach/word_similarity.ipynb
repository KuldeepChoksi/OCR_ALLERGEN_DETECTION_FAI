{
 "cells": [
  {
   "cell_type": "code",
   "execution_count": 1,
   "id": "f9d23198-d2d1-4bc6-b071-b19b27cc6930",
   "metadata": {},
   "outputs": [
    {
     "name": "stdout",
     "output_type": "stream",
     "text": [
      "Collecting gensim\n",
      "  Downloading gensim-4.3.3-cp311-cp311-win_amd64.whl.metadata (8.2 kB)\n",
      "Requirement already satisfied: numpy<2.0,>=1.18.5 in d:\\miniconda\\envs\\faienv\\lib\\site-packages (from gensim) (1.23.5)\n",
      "Collecting scipy<1.14.0,>=1.7.0 (from gensim)\n",
      "  Downloading scipy-1.13.1-cp311-cp311-win_amd64.whl.metadata (60 kB)\n",
      "Collecting smart-open>=1.8.1 (from gensim)\n",
      "  Downloading smart_open-7.1.0-py3-none-any.whl.metadata (24 kB)\n",
      "Collecting wrapt (from smart-open>=1.8.1->gensim)\n",
      "  Downloading wrapt-1.17.2-cp311-cp311-win_amd64.whl.metadata (6.5 kB)\n",
      "Downloading gensim-4.3.3-cp311-cp311-win_amd64.whl (24.0 MB)\n",
      "   ---------------------------------------- 0.0/24.0 MB ? eta -:--:--\n",
      "   --- ------------------------------------ 2.1/24.0 MB 10.7 MB/s eta 0:00:03\n",
      "   -------- ------------------------------- 5.0/24.0 MB 12.1 MB/s eta 0:00:02\n",
      "   ------------ --------------------------- 7.3/24.0 MB 12.2 MB/s eta 0:00:02\n",
      "   ---------------- ----------------------- 10.0/24.0 MB 12.2 MB/s eta 0:00:02\n",
      "   --------------------- ------------------ 12.8/24.0 MB 12.4 MB/s eta 0:00:01\n",
      "   ------------------------- -------------- 15.5/24.0 MB 12.5 MB/s eta 0:00:01\n",
      "   ------------------------------ --------- 18.1/24.0 MB 12.5 MB/s eta 0:00:01\n",
      "   ---------------------------------- ----- 20.4/24.0 MB 12.5 MB/s eta 0:00:01\n",
      "   -------------------------------------- - 23.3/24.0 MB 12.6 MB/s eta 0:00:01\n",
      "   ---------------------------------------- 24.0/24.0 MB 12.3 MB/s eta 0:00:00\n",
      "Downloading scipy-1.13.1-cp311-cp311-win_amd64.whl (46.2 MB)\n",
      "   ---------------------------------------- 0.0/46.2 MB ? eta -:--:--\n",
      "   -- ------------------------------------- 2.9/46.2 MB 13.9 MB/s eta 0:00:04\n",
      "   ---- ----------------------------------- 5.5/46.2 MB 13.4 MB/s eta 0:00:04\n",
      "   ------- -------------------------------- 8.4/46.2 MB 13.7 MB/s eta 0:00:03\n",
      "   --------- ------------------------------ 11.3/46.2 MB 13.8 MB/s eta 0:00:03\n",
      "   ------------ --------------------------- 13.9/46.2 MB 13.6 MB/s eta 0:00:03\n",
      "   -------------- ------------------------- 16.3/46.2 MB 13.3 MB/s eta 0:00:03\n",
      "   ---------------- ----------------------- 19.4/46.2 MB 13.5 MB/s eta 0:00:02\n",
      "   ------------------- -------------------- 22.3/46.2 MB 13.6 MB/s eta 0:00:02\n",
      "   ---------------------- ----------------- 25.4/46.2 MB 13.8 MB/s eta 0:00:02\n",
      "   ------------------------ --------------- 28.0/46.2 MB 13.8 MB/s eta 0:00:02\n",
      "   -------------------------- ------------- 30.9/46.2 MB 13.6 MB/s eta 0:00:02\n",
      "   ----------------------------- ---------- 33.6/46.2 MB 13.5 MB/s eta 0:00:01\n",
      "   ------------------------------- -------- 36.7/46.2 MB 13.6 MB/s eta 0:00:01\n",
      "   ---------------------------------- ----- 39.3/46.2 MB 13.5 MB/s eta 0:00:01\n",
      "   ------------------------------------ --- 41.9/46.2 MB 13.5 MB/s eta 0:00:01\n",
      "   -------------------------------------- - 44.8/46.2 MB 13.5 MB/s eta 0:00:01\n",
      "   ---------------------------------------  46.1/46.2 MB 13.4 MB/s eta 0:00:01\n",
      "   ---------------------------------------- 46.2/46.2 MB 13.1 MB/s eta 0:00:00\n",
      "Downloading smart_open-7.1.0-py3-none-any.whl (61 kB)\n",
      "Downloading wrapt-1.17.2-cp311-cp311-win_amd64.whl (38 kB)\n",
      "Installing collected packages: wrapt, scipy, smart-open, gensim\n",
      "Successfully installed gensim-4.3.3 scipy-1.13.1 smart-open-7.1.0 wrapt-1.17.2\n",
      "Note: you may need to restart the kernel to use updated packages.\n"
     ]
    }
   ],
   "source": [
    "pip install gensim"
   ]
  },
  {
   "cell_type": "code",
   "execution_count": 4,
   "id": "706b8bc8-7669-4d25-b777-e9e62bd9a268",
   "metadata": {},
   "outputs": [
    {
     "name": "stdout",
     "output_type": "stream",
     "text": [
      "[=========-----------------------------------------] 18.3% 23.4/128.1MB downloaded"
     ]
    },
    {
     "name": "stderr",
     "output_type": "stream",
     "text": [
      "IOPub message rate exceeded.\n",
      "The Jupyter server will temporarily stop sending output\n",
      "to the client in order to avoid crashing it.\n",
      "To change this limit, set the config variable\n",
      "`--ServerApp.iopub_msg_rate_limit`.\n",
      "\n",
      "Current values:\n",
      "ServerApp.iopub_msg_rate_limit=1000.0 (msgs/sec)\n",
      "ServerApp.rate_limit_window=3.0 (secs)\n",
      "\n"
     ]
    },
    {
     "name": "stdout",
     "output_type": "stream",
     "text": [
      "[=====================-----------------------------] 42.1% 54.0/128.1MB downloaded"
     ]
    },
    {
     "name": "stderr",
     "output_type": "stream",
     "text": [
      "IOPub message rate exceeded.\n",
      "The Jupyter server will temporarily stop sending output\n",
      "to the client in order to avoid crashing it.\n",
      "To change this limit, set the config variable\n",
      "`--ServerApp.iopub_msg_rate_limit`.\n",
      "\n",
      "Current values:\n",
      "ServerApp.iopub_msg_rate_limit=1000.0 (msgs/sec)\n",
      "ServerApp.rate_limit_window=3.0 (secs)\n",
      "\n"
     ]
    },
    {
     "name": "stdout",
     "output_type": "stream",
     "text": [
      "[=================================-----------------] 66.5% 85.2/128.1MB downloaded"
     ]
    },
    {
     "name": "stderr",
     "output_type": "stream",
     "text": [
      "IOPub message rate exceeded.\n",
      "The Jupyter server will temporarily stop sending output\n",
      "to the client in order to avoid crashing it.\n",
      "To change this limit, set the config variable\n",
      "`--ServerApp.iopub_msg_rate_limit`.\n",
      "\n",
      "Current values:\n",
      "ServerApp.iopub_msg_rate_limit=1000.0 (msgs/sec)\n",
      "ServerApp.rate_limit_window=3.0 (secs)\n",
      "\n"
     ]
    },
    {
     "name": "stdout",
     "output_type": "stream",
     "text": [
      "[==============================================----] 93.1% 119.3/128.1MB downloaded"
     ]
    },
    {
     "name": "stderr",
     "output_type": "stream",
     "text": [
      "IOPub message rate exceeded.\n",
      "The Jupyter server will temporarily stop sending output\n",
      "to the client in order to avoid crashing it.\n",
      "To change this limit, set the config variable\n",
      "`--ServerApp.iopub_msg_rate_limit`.\n",
      "\n",
      "Current values:\n",
      "ServerApp.iopub_msg_rate_limit=1000.0 (msgs/sec)\n",
      "ServerApp.rate_limit_window=3.0 (secs)\n",
      "\n"
     ]
    },
    {
     "name": "stdout",
     "output_type": "stream",
     "text": [
      "\n"
     ]
    }
   ],
   "source": [
    "from gensim.downloader import load\n",
    "word_vectors = load(\"glove-wiki-gigaword-100\")"
   ]
  },
  {
   "cell_type": "code",
   "execution_count": null,
   "id": "448e7007-a56b-43ab-a8eb-0fcc9f63471f",
   "metadata": {},
   "outputs": [],
   "source": [
    "def getSimilarWords(word):\n",
    "    res = []\n",
    "    if word in word_vectors:\n",
    "        similar_words = word_vectors.most_similar(word,topn=5)\n",
    "        res = similar_words\n",
    "    else:\n",
    "        print(f\"{word} not in vocabulary.\")\n",
    "    return res"
   ]
  },
  {
   "cell_type": "code",
   "execution_count": 22,
   "id": "fc9dfa56-2f86-485b-b706-8ad58b1826f7",
   "metadata": {},
   "outputs": [
    {
     "name": "stdout",
     "output_type": "stream",
     "text": [
      "[('curds', 0.7051036953926086), ('casein', 0.6373142004013062), ('curd', 0.5983526706695557), ('skim', 0.5683681964874268), ('rennet', 0.5528907775878906), ('powders', 0.5496858954429626), ('nonfat', 0.5448610186576843), ('yoghurt', 0.5356079339981079), ('yogurt', 0.5297637581825256), ('milk', 0.5218042135238647)]\n"
     ]
    }
   ],
   "source": [
    "# word = \"whey\"\n",
    "# if word in word_vectors:\n",
    "#     similar_words = word_vectors.most_similar(word, topn=10)\n",
    "#     print(similar_words)\n",
    "# else:\n",
    "#     print(f\"{word} not in vocabulary.\")"
   ]
  },
  {
   "cell_type": "code",
   "execution_count": null,
   "id": "1d10a98b-a00e-4cf3-9e77-cc2d49095e0a",
   "metadata": {},
   "outputs": [],
   "source": []
  }
 ],
 "metadata": {
  "kernelspec": {
   "display_name": "Python 3 (ipykernel)",
   "language": "python",
   "name": "python3"
  },
  "language_info": {
   "codemirror_mode": {
    "name": "ipython",
    "version": 3
   },
   "file_extension": ".py",
   "mimetype": "text/x-python",
   "name": "python",
   "nbconvert_exporter": "python",
   "pygments_lexer": "ipython3",
   "version": "3.11.11"
  }
 },
 "nbformat": 4,
 "nbformat_minor": 5
}
